{
 "cells": [
  {
   "cell_type": "markdown",
   "metadata": {},
   "source": [
    "## Functions to compute variance decrease in imputed data\n",
    "\n",
    "The idea comes from:\n",
    "\n",
    "Yadav, M. L., & Roychoudhury, B. (2018). Handling missing values: A study of popular imputation packages in R. Knowledge-Based Systems. doi:10.1016/j.knosys.2018.06.012.\n",
    "\n",
    "\n",
    "The use of the formula is not very clear in the paper. \n",
    "\n",
    "In this implementations, we consider a matrix $X \\in \\mathbb{R}^{N \\times G}$.\n",
    "For each variable $g \\in G$, the Variance Decrease (VD) is defined as:\n",
    "\n",
    "\\begin{align}\n",
    "VD_{g}=|\\frac{(var(X_{g}) - var(X^{imputed}_{g}))}{var(X_{g})}|\n",
    "\\end{align}\n",
    "\n",
    "\n",
    "The total VD score for the imputation of the whole matrix is the mean across all the genes for which an imputation was done (completed genes not considered), weighted with the fraction of the missing values for each gene:\n",
    "\n",
    "\\begin{align}\n",
    "\\frac{\\sum_{g \\in GN}{VD_{g}* w_{g}}}{\\sum_{g \\in GN}{w_{g}}}\n",
    "\\end{align}\n",
    "\n",
    "\n",
    "\\begin{align}\n",
    "w_g =  \\frac{len(NAN_{g})}{N}\n",
    "\\end{align}\n",
    "\n",
    "where $ GN = \\{g\\in G \\ | \\exists  \\ i \\  s.t. \\ X^i_g ==NA \\}$ and $ NAN_{g} = \\{g\\in G \\ | X^i_g ==NA \\}$\n",
    "\n"
   ]
  },
  {
   "cell_type": "code",
   "execution_count": 1,
   "metadata": {},
   "outputs": [],
   "source": [
    "import numpy as np\n"
   ]
  },
  {
   "cell_type": "code",
   "execution_count": 29,
   "metadata": {},
   "outputs": [],
   "source": [
    "def Calc_VDscore(nan_matrix, imputed_matrix, axis = 1, weighted = True):\n",
    "    \n",
    "    \"\"\"\n",
    "    Compute the VD score for an imputed matrix\n",
    "    __________________________________________\n",
    "    \n",
    "    Parameters:\n",
    "    \n",
    "    nan_matrix(np.array): with shape (n_samples, n_features), containing nas\n",
    "    \n",
    "    imputed_matrix(np.array) : with shape (n_samples, n_features), matrix derived from nan_matrix with NAs imputed\n",
    "    \n",
    "    axis(int):  1 if variance must be done on the columns, 0 otherwise. \n",
    "    Default to 1 (this supposes genes are on the columns)\n",
    "    \n",
    "    weighted (bool): if weighted average must be perfomed when aggregating VDs.\n",
    "    If true, the average is weighted on the fraction of missing value.\n",
    "    Default to True.\n",
    "    \n",
    "    \n",
    "    Returns:\n",
    "    \n",
    "    float : total VD score for the imputed matrix\n",
    "    \n",
    "    \n",
    "    \"\"\"\n",
    "    nan_index = Get_nanidx(nan_matrix)\n",
    "    nan_weights = Get_nan_weight(nan_matrix, axis) if weighted else None\n",
    "    \n",
    "    sub_nan, sub_imputed = (Sub_matrix(mat, nan_index, axis) for mat in [nan_matrix, imputed_matrix])    \n",
    "    var_nan, var_imputed = (np.nanvar(mat, axis = [1,0][axis]) for mat in [sub_nan , sub_imputed])\n",
    "    \n",
    "    vdp_vec = [VD_single(va_i, var_imputed[i]) for i, va_i in enumerate(var_nan) if va_i!=0]\n",
    "    \n",
    "    return np.average(vdp_vec,weights =  nan_weights)"
   ]
  },
  {
   "cell_type": "code",
   "execution_count": 3,
   "metadata": {},
   "outputs": [],
   "source": [
    "def Get_nan_weight(nan_matrix, axis):\n",
    "    \n",
    "    \"\"\"\n",
    "    Compute the fraction of nan in the matrix on the given axis\n",
    "    __________________________________________\n",
    "    \n",
    "    Parameters:\n",
    "    \n",
    "    nan_matrix(np.array): with shape (n_samples, n_features), containing nas\n",
    "    \n",
    "    axis(int):  1 if count must be done on the columns, 0 otherwise. \n",
    "\n",
    "    \n",
    "    Returns:\n",
    "    \n",
    "    list of floats : nan fractions on the given axis\n",
    "    \n",
    "    \n",
    "    \"\"\"\n",
    "    nans =  np.isnan(nan_matrix)\n",
    "    nan_fraction  = np.sum(nans, [1,0][axis])/prova.shape[axis]\n",
    "    \n",
    "    return nan_fraction[nan_fraction>0]"
   ]
  },
  {
   "cell_type": "code",
   "execution_count": 4,
   "metadata": {},
   "outputs": [],
   "source": [
    "def VD_single(varA, varB):\n",
    "    \n",
    "    \"\"\"\n",
    "    Simple VD formula\n",
    "    __________________________________________\n",
    "    \n",
    "    Parameters:\n",
    "    \n",
    "    varA(float): original variance value for one feature\n",
    "    \n",
    "    varB(float) : variance value for one feature on the imputed matrix\n",
    "    \n",
    "    \n",
    "    Returns:\n",
    "    \n",
    "    float : VD\n",
    "    \n",
    "    \n",
    "    \"\"\"\n",
    "    return np.abs((varA - varB)/varA)"
   ]
  },
  {
   "cell_type": "code",
   "execution_count": 18,
   "metadata": {},
   "outputs": [],
   "source": [
    "def Sub_matrix(tored_matrix, idx, axis = None):\n",
    "    \n",
    "    \"\"\"\n",
    "    Subset of a matrix\n",
    "    __________________________________________\n",
    "    \n",
    "    Parameters:\n",
    "    \n",
    "    tored_matrix(np.array): matrix to be reduced\n",
    "    \n",
    "    idx (list of lists): indexes, in the form [[row1, col1], ...,[rown, coln]]\n",
    "    \n",
    "    axis (integer): if just one axis must be considered, 0 for rows, 1 for columns. \n",
    "    None restrict the matrix just to the elements in idx. Default to None\n",
    "    \n",
    "    Returns:\n",
    "    \n",
    "    if axis == None:\n",
    "        array(flattened): elements of tored_matrix at indexes idx\n",
    "    else:\n",
    "        array (2D): tored_matrix restricted to rows or columns of interest (other dimension does not vary)\n",
    "    \n",
    "    \n",
    "    \"\"\"\n",
    "    if axis is not None:\n",
    "        \n",
    "        idx = list(set(idx[:,axis]))\n",
    "        if axis == 0:\n",
    "            red_matrix =  tored_matrix[idx, :]\n",
    "        else:\n",
    "            red_matrix =  tored_matrix[ : , idx]\n",
    "            \n",
    "    else:\n",
    "        red_matrix = tored_matrix[idx[:,0], idx[:,1]]\n",
    "        \n",
    "    return red_matrix"
   ]
  },
  {
   "cell_type": "code",
   "execution_count": 6,
   "metadata": {},
   "outputs": [],
   "source": [
    "def Get_nanidx(nan_matrix):\n",
    "    \n",
    "    \"\"\"\n",
    "    Compute the VD score for an imputed matrix\n",
    "    __________________________________________\n",
    "    \n",
    "    Parameters:\n",
    "    \n",
    "    nan_matrix(np.array): matrix (containing nans)\n",
    "    \n",
    "    Returns:\n",
    "    \n",
    "    list of lists : indexes of nans,  [[row1, col1], ..,[rown, coln]]\n",
    "    \n",
    "    \"\"\"\n",
    "    \n",
    "    nans =  np.isnan(nan_matrix)\n",
    "    \n",
    "    return np.argwhere(nans)"
   ]
  },
  {
   "cell_type": "code",
   "execution_count": 47,
   "metadata": {},
   "outputs": [],
   "source": [
    "def Negative_imputed(imputed_matrix, idx):\n",
    "    \n",
    "    \"\"\"\n",
    "    Compute the \"negative\" of a (imputed) matrix: a matrix with all nans except for values at given index\n",
    "    __________________________________________\n",
    "    \n",
    "    Parameters:\n",
    "    \n",
    "    imputed_matrix(np.array) : [here:with shape (n_samples, n_features), matrix derived from nan_matrix with NAs imputed]\n",
    "\n",
    "    idx (list of lists):  indexes, [[row1, col1], ..,[rown, coln]]\n",
    "                        [here, indexes of null values in the original matrix]\n",
    "    \n",
    "    Returns:\n",
    "    \n",
    "    np.array : same shape of imputed_matrix, with values at idx equal at those in imputed matrix, the others NA\n",
    "    \n",
    "    \n",
    "    \"\"\"\n",
    "    fake_nan = np.empty(shape = imputed_matrix.shape)\n",
    "    fake_nan[:] = np.nan\n",
    "    fake_nan[idx[:,0], idx[:,1]] = imputed_matrix[idx[:,0], idx[:,1]]\n",
    "    \n",
    "    return fake_nan"
   ]
  },
  {
   "cell_type": "code",
   "execution_count": 8,
   "metadata": {},
   "outputs": [],
   "source": [
    "# def Calc_VDPscore_old(nan_matrix, imputed_matrix, axis = 1):\n",
    "    \n",
    "#     nan_index = Get_nanidx(nan_matrix)\n",
    "#     negative_imputed = Negative_imputed(imputed_matrix, nan_index)\n",
    "#     sub_nan, sub_imputed = (Sub_matrix(mat, nan_index, axis) for mat in [nan_matrix, negative_imputed])    \n",
    "#     var_nan, var_imputed = (np.nanvar(mat, axis = axis) for mat in [sub_nan , sub_imputed])\n",
    "    \n",
    "#     vdp_vec = [VDP_single(va_i, var_imputed[i]) for i, va_i in enumerate(var_nan) if va_i!=0]\n",
    "    \n",
    "#     return np.mean(vdp_vec)"
   ]
  },
  {
   "cell_type": "code",
   "execution_count": 9,
   "metadata": {},
   "outputs": [
    {
     "data": {
      "text/plain": [
       "array([[1.2, 3.5, 7. , 6.4, nan],\n",
       "       [6.2, 6.5, 8. , nan, 5.6],\n",
       "       [0.2, 3. , 6.7, 7. , nan],\n",
       "       [1.2, 3.5, 7. , nan, 6.4],\n",
       "       [2.9, nan, 7.5, 4. , nan]])"
      ]
     },
     "execution_count": 9,
     "metadata": {},
     "output_type": "execute_result"
    }
   ],
   "source": [
    "prova = np.array([[1.2, 3.5, 7, 6.4, np.nan], [6.2, 6.5, 8, np.nan, 5.6],\n",
    "                [.2, 3, 6.7, 7, np.nan], [1.2, 3.5, 7,np.nan,  6.4],\n",
    "                [2.9, np.nan, 7.5, 4, np.nan]])\n",
    "prova"
   ]
  },
  {
   "cell_type": "code",
   "execution_count": 10,
   "metadata": {},
   "outputs": [
    {
     "data": {
      "text/plain": [
       "array([[1.2, 3.5, 7. , 6.4, 6. ],\n",
       "       [6.2, 6.5, 8. , 5. , 5.6],\n",
       "       [0.2, 3. , 6.7, 7. , 7. ],\n",
       "       [1.2, 3.5, 7. , 5.4, 6.4],\n",
       "       [2.9, 3. , 7.5, 4. , 6. ]])"
      ]
     },
     "execution_count": 10,
     "metadata": {},
     "output_type": "execute_result"
    }
   ],
   "source": [
    "prova_imp = np.array([[1.2, 3.5, 7, 6.4, 6], [6.2, 6.5, 8, 5, 5.6],\n",
    "                [.2, 3, 6.7, 7, 7], [1.2, 3.5, 7,5.4,  6.4],\n",
    "                [2.9, 3, 7.5, 4, 6]])\n",
    "prova_imp"
   ]
  },
  {
   "cell_type": "code",
   "execution_count": 11,
   "metadata": {},
   "outputs": [
    {
     "data": {
      "text/plain": [
       "array([[0, 4],\n",
       "       [1, 3],\n",
       "       [2, 4],\n",
       "       [3, 3],\n",
       "       [4, 1],\n",
       "       [4, 4]], dtype=int64)"
      ]
     },
     "execution_count": 11,
     "metadata": {},
     "output_type": "execute_result"
    }
   ],
   "source": [
    "nan_idx  =Get_nanidx(prova)\n",
    "nan_idx"
   ]
  },
  {
   "cell_type": "code",
   "execution_count": 12,
   "metadata": {},
   "outputs": [
    {
     "data": {
      "text/plain": [
       "(array([nan, nan, nan, nan, nan, nan]), array([6. , 5. , 7. , 5.4, 3. , 6. ]))"
      ]
     },
     "execution_count": 12,
     "metadata": {},
     "output_type": "execute_result"
    }
   ],
   "source": [
    "sub1 = Sub_matrix(prova, idx = nan_idx, axis = None)\n",
    "sub2 = Sub_matrix(prova_imp, idx = nan_idx, axis = None)\n",
    "sub1, sub2"
   ]
  },
  {
   "cell_type": "code",
   "execution_count": 19,
   "metadata": {
    "scrolled": true
   },
   "outputs": [
    {
     "data": {
      "text/plain": [
       "(array([[1.2, 3.5, 7. , 6.4, nan],\n",
       "        [6.2, 6.5, 8. , nan, 5.6],\n",
       "        [0.2, 3. , 6.7, 7. , nan],\n",
       "        [1.2, 3.5, 7. , nan, 6.4],\n",
       "        [2.9, nan, 7.5, 4. , nan]]), array([[3.5, 6.4, nan],\n",
       "        [6.5, nan, 5.6],\n",
       "        [3. , 7. , nan],\n",
       "        [3.5, nan, 6.4],\n",
       "        [nan, 4. , nan]]))"
      ]
     },
     "execution_count": 19,
     "metadata": {},
     "output_type": "execute_result"
    }
   ],
   "source": [
    "sub3 = Sub_matrix(prova, idx = nan_idx, axis =0)\n",
    "sub4 = Sub_matrix(prova, idx = nan_idx, axis = 1)\n",
    "sub3, sub4"
   ]
  },
  {
   "cell_type": "code",
   "execution_count": 20,
   "metadata": {},
   "outputs": [
    {
     "data": {
      "text/plain": [
       "array([0.2, 0.4, 0.6])"
      ]
     },
     "execution_count": 20,
     "metadata": {},
     "output_type": "execute_result"
    }
   ],
   "source": [
    "Get_nan_weight(prova, axis=1)"
   ]
  },
  {
   "cell_type": "code",
   "execution_count": 30,
   "metadata": {},
   "outputs": [
    {
     "data": {
      "text/plain": [
       "0.3287882307394493"
      ]
     },
     "execution_count": 30,
     "metadata": {},
     "output_type": "execute_result"
    }
   ],
   "source": [
    "Calc_VDscore(prova, prova_imp, axis = 1, weighted = True)\n",
    "    "
   ]
  },
  {
   "cell_type": "code",
   "execution_count": 31,
   "metadata": {
    "scrolled": true
   },
   "outputs": [
    {
     "data": {
      "text/plain": [
       "0.2778939217963602"
      ]
     },
     "execution_count": 31,
     "metadata": {},
     "output_type": "execute_result"
    }
   ],
   "source": [
    "Calc_VDscore(prova, prova_imp, axis = 1, weighted = False)\n",
    "    "
   ]
  },
  {
   "cell_type": "code",
   "execution_count": 48,
   "metadata": {},
   "outputs": [
    {
     "data": {
      "text/plain": [
       "array([[nan, nan, nan, nan, 6. ],\n",
       "       [nan, nan, nan, 5. , nan],\n",
       "       [nan, nan, nan, nan, 7. ],\n",
       "       [nan, nan, nan, 5.4, nan],\n",
       "       [nan, 3. , nan, nan, 6. ]])"
      ]
     },
     "execution_count": 48,
     "metadata": {},
     "output_type": "execute_result"
    }
   ],
   "source": [
    "Negative_imputed(prova_imp, nan_idx)"
   ]
  }
 ],
 "metadata": {
  "kernelspec": {
   "display_name": "Python 3",
   "language": "python",
   "name": "python3"
  },
  "language_info": {
   "codemirror_mode": {
    "name": "ipython",
    "version": 3
   },
   "file_extension": ".py",
   "mimetype": "text/x-python",
   "name": "python",
   "nbconvert_exporter": "python",
   "pygments_lexer": "ipython3",
   "version": "3.7.1"
  }
 },
 "nbformat": 4,
 "nbformat_minor": 2
}
